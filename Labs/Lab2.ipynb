{
 "cells": [
  {
   "cell_type": "markdown",
   "id": "e3cdf49f",
   "metadata": {},
   "source": [
    "# Lab 2. Probability and Statistics\n",
    "\n",
    "### Due date: Friday 01/28 at 10:59 pm\n",
    "**On gradescope, make sure to assign only the pages with your implementation to the question**\n",
    "\n",
    "In this lab we are going to use Python to review some statistics concepts studied in class:\n",
    "- Random Variables and Statistical Distributions\n",
    "- Law of Large Number and Central Limit Theorem\n",
    "- Maximum likelihood estimation\n",
    "- Least squares regression, Ridge, Lasso"
   ]
  },
  {
   "cell_type": "code",
   "execution_count": 1,
   "id": "d49c086c",
   "metadata": {},
   "outputs": [],
   "source": [
    "import numpy as np\n",
    "import seaborn as sns\n",
    "import pandas as pd\n",
    "import datascience as ds\n",
    "import matplotlib.pyplot as plt\n",
    "import matplotlib.animation as animation\n",
    "%matplotlib inline\n",
    "from scipy import stats\n",
    "from scipy import special\n",
    "from scipy.stats import bernoulli\n",
    "from scipy.stats import binom\n",
    "from scipy.stats import norm\n",
    "from scipy.stats import gamma\n",
    "from scipy.optimize import minimize\n",
    "from sklearn import datasets, linear_model\n",
    "from sklearn.metrics import mean_squared_error, r2_score"
   ]
  },
  {
   "cell_type": "markdown",
   "id": "ae46c916",
   "metadata": {},
   "source": [
    "## Part 1: Random Variables and Statistical Distributions\n",
    "\n",
    "* Reference: https://scipy.github.io/devdocs/tutorial/stats.html\n",
    "\n",
    "### 1.1 Binomial\n",
    "A binomial random variable with parameters $(n, p)$, counting the number of successes in $n$ independent trials with success probability $p$, can be described as the sum of $n$ independent Bernoulli random variables of parameter $p$, i.e.,\n",
    "$$\n",
    "    Y = \\sum_{i=1}^{n} X_i\\,, \\quad X_{i} \\stackrel{\\text{i.i.d.}}{\\sim}\\text{Bernoulli}(p)\\,,\n",
    "$$\n",
    "with probability mass function\n",
    "$$\n",
    "    f(k| n, p) = \\binom{n}{k}p^{k}(1 - p)^{n-k}\\,, k\\in\\{0, 1, 2, \\dots, n\\}\\,,\n",
    "$$\n",
    "where $\\mathbb{E}Y = np$ and $Var(Y) = np(1-p)$."
   ]
  },
  {
   "cell_type": "code",
   "execution_count": 2,
   "id": "9d3f92e3",
   "metadata": {},
   "outputs": [
    {
     "data": {
      "image/png": "[encoded data removed]",
      "text/plain": [
       "<Figure size 432x288 with 1 Axes>"
      ]
     },
     "metadata": {
      "needs_background": "light"
     },
     "output_type": "display_data"
    }
   ],
   "source": [
    "n, p = 10, 0.7\n",
    "x = np.arange(n + 1) # All possible outcomes\n",
    "\n",
    "# Display the probability mass function\n",
    "fig, ax = plt.subplots(1, 1)\n",
    "ax.plot(x, binom.pmf(x, n, p), 'ro', ms=8, label='binom pmf')\n",
    "#ax.vlines(x, 0, binom.pmf(x, n, p), colors='r', lw=5, alpha=0.5)\n",
    "\n",
    "np.random.seed(155)\n",
    "# Alternative way to define the binomial distribution and call pmf\n",
    "binom_samples = binom.rvs(n, p, size=1000)\n",
    "ax.hist(binom_samples, bins= x + 0.5, density=True, alpha=0.5, lw=3,\n",
    "         histtype='stepfilled', color='steelblue',\n",
    "         edgecolor='none', label='empirical pmf') # compare the histogram\n",
    "ax.legend(loc='best', frameon=False)\n",
    "plt.show()\n",
    "# emphasize the bias here"
   ]
  },
  {
   "cell_type": "code",
   "execution_count": 3,
   "id": "8eaa4b96",
   "metadata": {
    "nbgrader": {
     "grade": false,
     "grade_id": "cell-76e00a72b1d25501",
     "locked": false,
     "schema_version": 3,
     "solution": true,
     "task": false
    }
   },
   "outputs": [
    {
     "name": "stdout",
     "output_type": "stream",
     "text": [
      "mean(r) - np =  0.020999999999999908\n",
      "var(r) - np(1-p) =  -0.1334410000000006\n"
     ]
    }
   ],
   "source": [
    "\"\"\"\n",
    "TODO: 1. compute the mean and variance of the samples\n",
    "\"\"\"\n",
    "\n",
    "### BEGIN SOLUTION\n",
    "mean = np.mean(binom_samples)\n",
    "var = np.var(binom_samples)\n",
    "### END SOLUTION\n",
    "\n",
    "print( \"mean(r) - np = \" ,mean - n*p)\n",
    "print( \"var(r) - np(1-p) = \",var- n*p*(1-p))"
   ]
  },
  {
   "cell_type": "markdown",
   "id": "15db3af9",
   "metadata": {},
   "source": [
    "### 1.2 Normal\n",
    "\n",
    "The probability density function for normal distribution is\n",
    "$$\n",
    "    f(x|\\mu, \\sigma) = \\frac{1}{\\sqrt{2\\pi}} \\exp \\Big(\\frac{-(x - \\mu)^{2}}{2\\sigma^2} \\Big)\\,.\n",
    "$$"
   ]
  },
  {
   "cell_type": "code",
   "execution_count": 4,
   "id": "f88ce5c4",
   "metadata": {},
   "outputs": [
    {
     "name": "stdout",
     "output_type": "stream",
     "text": [
      "Sample Mean =  2.075438688648664\n",
      "Sample Variance =  15.940940260398888\n"
     ]
    },
    {
     "data": {
      "image/png": "[encoded data removed]",
      "text/plain": [
       "<Figure size 432x288 with 1 Axes>"
      ]
     },
     "metadata": {
      "needs_background": "light"
     },
     "output_type": "display_data"
    }
   ],
   "source": [
    "# Display the probability density function\n",
    "fig, ax = plt.subplots(1, 1)\n",
    "# ppf is the percent point function (inverse of cdf — percentiles).\n",
    "x = np.linspace(norm.ppf(0.001, loc=2, scale=4), norm.ppf(0.999, loc=2, scale=4), 100) \n",
    "ax.plot(x, norm.pdf(x, loc=2, scale=4),'r-', lw=5, alpha=0.6, label='normal pdf')\n",
    "\n",
    "norm_samples = norm.rvs(loc=2, scale=4, size=10000, random_state = 182)\n",
    "print(\"Sample Mean = \", np.mean(norm_samples))\n",
    "print(\"Sample Variance = \", np.var(norm_samples))\n",
    "ax.hist(norm_samples, bins=50, density=True, alpha=0.5,\n",
    "         histtype='stepfilled', color='steelblue',\n",
    "         edgecolor='none', label='empirical pdf') # compare the histogram\n",
    "ax.legend(loc='best', frameon=False)\n",
    "plt.show()"
   ]
  },
  {
   "cell_type": "code",
   "execution_count": 5,
   "id": "ad727075",
   "metadata": {
    "nbgrader": {
     "grade": false,
     "grade_id": "cell-0ddd4d538fb85a38",
     "locked": false,
     "schema_version": 3,
     "solution": true,
     "task": false
    }
   },
   "outputs": [
    {
     "data": {
      "image/png": "[encoded data removed]",
      "text/plain": [
       "<Figure size 432x288 with 1 Axes>"
      ]
     },
     "metadata": {
      "needs_background": "light"
     },
     "output_type": "display_data"
    }
   ],
   "source": [
    "fig, ax = plt.subplots(1, 1)\n",
    "x = np.linspace(norm.ppf(0.001, loc=2, scale=4), norm.ppf(0.999, loc=2, scale=4), 100) \n",
    "\n",
    "\"\"\"\n",
    "TODO: 2. show the cdf of gaussian.\n",
    "\"\"\"\n",
    "\n",
    "### BEGIN SOLUTION\n",
    "ax.plot(x, norm.cdf(x, loc=2, scale=4),'r-', lw=5, alpha=0.6, label='normal cdf')\n",
    "ax.hist(norm_samples, bins=50, density=True, cumulative = True, alpha=0.5,\n",
    "         histtype='stepfilled', color='steelblue',\n",
    "         edgecolor='none', label='empirical pdf')\n",
    "ax.legend(loc='best', frameon=False)\n",
    "### END SOLUTION\n",
    "\n",
    "ax.legend(loc='best', frameon=False)\n",
    "plt.show()"
   ]
  },
  {
   "cell_type": "markdown",
   "id": "674e1c32",
   "metadata": {},
   "source": [
    "### 1.3 Gamma Distribution\n",
    "\n",
    "A random variable $X$ that is gamma-distributed with shape $\\alpha$ and rate $\\beta$ is denoted by\n",
    "$$\n",
    "    X \\sim \\Gamma(\\alpha, \\beta)\\,,\n",
    "$$\n",
    "where the corresponding probability density function is parametrized by shape $\\alpha$ and rate $\\beta$\n",
    "$$\n",
    "    f(x|\\alpha ,\\beta )= \\frac {\\beta ^{\\alpha } x^{\\alpha -1}e^{-\\beta x}}{\\Gamma (\\alpha )}\\,, \\quad \\text{ for } x>0 \\quad \\alpha ,\\beta >0\\,,\n",
    "$$\n",
    "where $\\Gamma (\\alpha) = \\int_{0}^{\\infty} x^{\\alpha - 1}e^{-x}d\\,x$ is the gamma function."
   ]
  },
  {
   "cell_type": "code",
   "execution_count": 6,
   "id": "76af2798",
   "metadata": {},
   "outputs": [
    {
     "data": {
      "image/png": "[encoded data removed]",
      "text/plain": [
       "<Figure size 432x288 with 1 Axes>"
      ]
     },
     "metadata": {
      "needs_background": "light"
     },
     "output_type": "display_data"
    }
   ],
   "source": [
    "alpha = 2\n",
    "beta = 0.15\n",
    "n = 1000\n",
    "\n",
    "# Generate random variables with given seed\n",
    "gamma_samples = gamma.rvs(alpha, scale = 1/beta, size=n, random_state= 155)\n",
    "\n",
    "# Display the probability density function\n",
    "fig, ax = plt.subplots(1, 1)\n",
    "x = np.linspace(gamma.ppf(0.001, alpha, scale = 1/beta), gamma.ppf(0.999, alpha, scale = 1/beta), 100) \n",
    "ax.plot(x, gamma.pdf(x, alpha, scale = 1/beta),'r-', lw=5, alpha=0.6, label='gamma pdf')\n",
    "ax.hist(gamma_samples, bins=50, density=True, alpha=0.5,\n",
    "         histtype='stepfilled', color='steelblue',\n",
    "         edgecolor='none', label='empirical pdf') # compare the histogram:\n",
    "ax.legend(loc='best', frameon=False)\n",
    "plt.show()"
   ]
  },
  {
   "cell_type": "code",
   "execution_count": 7,
   "id": "bd7d2059",
   "metadata": {
    "nbgrader": {
     "grade": false,
     "grade_id": "cell-3927d56f6df48710",
     "locked": false,
     "schema_version": 3,
     "solution": true,
     "task": false
    }
   },
   "outputs": [
    {
     "name": "stdout",
     "output_type": "stream",
     "text": [
      "Mean =  13.333333333333334\n",
      "Variance =  88.8888888888889\n",
      "Skewness =  1.414213562373095\n",
      "Kurtosis =  3.0\n"
     ]
    }
   ],
   "source": [
    "\"\"\"\n",
    "TODO: 3. compute the first four moments of gamma function, theoretical value.\n",
    "\"\"\"\n",
    "\n",
    "### BEGIN SOLUTION\n",
    "mean, var, skew, kurt = gamma.stats(alpha, scale = 1/beta, moments='mvsk')\n",
    "### END SOLUTION\n",
    "\n",
    "print(\"Mean = \", mean)\n",
    "print(\"Variance = \", var)\n",
    "print(\"Skewness = \", skew)\n",
    "print(\"Kurtosis = \", kurt)"
   ]
  },
  {
   "cell_type": "markdown",
   "id": "9662e27a",
   "metadata": {},
   "source": [
    "## Part 2: Law of Large Number and Central Limit Theorem\n",
    "\n",
    "### 2.1 Law of Large Number\n",
    "\n",
    "Let $X_1, X_2, \\cdots, X_n$ be i.i.d. scalar random variables with $X_i \\stackrel{\\sim}{=} X$ (same distribution) for all $i \\in \\{1, \\cdots, n\\}$. Let $\\overline{X}_n = (X_1 + \\cdots + X_n)/n$ denote the sample average.\n",
    "\n",
    "* Weak Law: If $\\mathbb{E} |X| <\\infty$ and $\\mathbb{E}X  = \\mu$, then $\\overline{X}_n \\stackrel{\\text{P}}{\\to}\\mu$, that is \n",
    "$$\n",
    "    \\lim _{n\\to \\infty }\\mathbb{P} \\!\\left(\\,|{\\overline {X}}_{n}-\\mu |<\\varepsilon \\,\\right)=1\\,, \\quad \\forall \\epsilon >0\\,.\n",
    "$$\n",
    "An $L^2$ version can be proved by Chebyshev inequality. Suppose that $Var(X_i) = \\sigma^2 < \\infty$, then $Var(\\overline{X}_n) = Var(X_i)/n = \\sigma^2/n$. By Chebyshev,\n",
    "$$\n",
    "    \\mathbb{P}\\left( |{\\overline{X}}_{n}-\\mu | > \\epsilon \\right) \\leq \\frac{\\sigma^2}{n \\epsilon^2}\\,,\n",
    "$$\n",
    "The desired argument follows by letting $n \\to \\infty$. The assumption $Var(X_i) = \\sigma^2<\\infty$ is not necessary, which can be removed by truncation method. \n",
    "\n",
    "\n",
    "* Strong Law: If $\\mathbb{E} |X| <\\infty$ and $\\mathbb{E}X  = \\mu$, $\\overline{X}_n \\stackrel{\\text{a.s.}}{\\to}\\mu$, that is \n",
    "$$\n",
    "    \\mathbb{P}\\left(\\,\\lim _{n\\to \\infty } |{\\overline{X}}_{n}-\\mu |=0 \\,\\right)=1\\,.\n",
    "$$"
   ]
  },
  {
   "cell_type": "code",
   "execution_count": 8,
   "id": "1ab75fb8",
   "metadata": {},
   "outputs": [],
   "source": [
    "num_trials = 10000 # number of trials\n",
    "\n",
    "# Binomial parameters\n",
    "n = 10\n",
    "p = 0.7\n",
    "avg_binom = []\n",
    "std_binom = []\n",
    "binom_samples = binom.rvs(n, p, size=num_trials, random_state = 155)\n",
    "\n",
    "# In each simulation, there is one trial more than the previous simulation\n",
    "for i in range(1, num_trials + 1):\n",
    "    avg_binom.append(np.mean(binom_samples[0:i]))\n",
    "    std_binom.append(np.std(avg_binom)) # Tract the std of sample average\n",
    "    \n",
    "# Convert list to np.array\n",
    "avg_binom = np.array(avg_binom)\n",
    "std_binom = np.array(std_binom)"
   ]
  },
  {
   "cell_type": "code",
   "execution_count": 9,
   "id": "31902ff8",
   "metadata": {},
   "outputs": [
    {
     "data": {
      "image/png": "[encoded data removed]",
      "text/plain": [
       "<Figure size 864x288 with 1 Axes>"
      ]
     },
     "metadata": {
      "needs_background": "light"
     },
     "output_type": "display_data"
    }
   ],
   "source": [
    "# Plot the dynamics of sample average\n",
    "x = np.arange(1, num_trials + 1)\n",
    "fig, ax = plt.subplots(1, 1, figsize=(12,4))\n",
    "ax.plot(x[10:], avg_binom[10:], label = 'sample average')\n",
    "ax.fill_between(x[10:], (avg_binom[10:] - 1.96*std_binom[10:]), (avg_binom[10:] + 1.96*std_binom[10:]), color='b', alpha=.1, label = '0.95 confidence')\n",
    "ax.set_title(\"Convergence of sample average\")\n",
    "ax.legend(loc='best', frameon=False)\n",
    "plt.show()"
   ]
  },
  {
   "cell_type": "markdown",
   "id": "9c6e2f2f",
   "metadata": {},
   "source": [
    "### 2.2 Central Limit Theorem\n",
    "\n",
    "Suppose $X_{1},\\cdots ,X_{n}$ is a sequence of i.i.d. random variables with $\\mathbb{E}X_{i} = \\mu$ and $Var(X_{i})=\\sigma^{2}<\\infty$. Define random variable $Z_n := \\frac{\\sqrt{n}}{\\sigma}( \\overline{X}_{n}-\\mu)$. Then $Z_n$ converges in distribution to standard normal $N(0, 1)$ as $n \\to \\infty$, that is\n",
    "\n",
    "$$\n",
    "   Z_n :=\\frac{\\sqrt{n}}{\\sigma}( \\overline{X}_{n}-\\mu) \\stackrel{\\text{d}}{\\to} N(0, 1)\\,.\n",
    "$$\n",
    "\n",
    "Basically, CLT describes how fast $\\overline{X}_n$ converges to $\\mu$."
   ]
  },
  {
   "cell_type": "markdown",
   "id": "3e01e368",
   "metadata": {},
   "source": [
    "## Part 3: Maximum Likelihood Estimation\n",
    "\n",
    "Given i.i.d. samples $x_1, x_2, \\ldots, x_n$ where $x_i \\stackrel{\\text{i.i.d.}}{\\sim} \\Gamma(\\alpha, \\beta)$, the likelihood function is\n",
    "$$\n",
    "\\text{likelihood }(\\alpha, \\beta|x_1, \\dots, x_n) = \\prod_{i=1}^n f(x_i|\\alpha ,\\beta)= \\prod_{i=1}^n \\frac{\\beta^{\\alpha}}{\\Gamma(\\alpha)} x_i^{\\alpha-1} e^{-\\beta x_i}\\,.\n",
    "$$\n",
    "Then the log-likelihood function is\n",
    "\\begin{align*}\n",
    "L(\\alpha, \\beta) \\,&= \\sum_{i=1}^n \\Big( \\alpha \\log \\beta - \\log\\Gamma(\\alpha) + (\\alpha-1)\\log x_i -\\beta x_i \\Big)\\\\\n",
    "    \\,&= (\\alpha - 1) \\sum_{i=1}^n \\log x_i - \\beta \\sum_{i=1}^n x_i + n\\alpha \\log \\beta - n\\log\\Gamma(\\alpha)\\,.\n",
    "\\end{align*}"
   ]
  },
  {
   "cell_type": "code",
   "execution_count": 10,
   "id": "0cf0944c",
   "metadata": {
    "nbgrader": {
     "grade": false,
     "grade_id": "cell-c219ec1cc5c858e7",
     "locked": false,
     "schema_version": 3,
     "solution": true,
     "task": false
    }
   },
   "outputs": [
    {
     "name": "stdout",
     "output_type": "stream",
     "text": [
      "-3473.1857554954\n"
     ]
    }
   ],
   "source": [
    "alpha = 2\n",
    "beta = 0.15\n",
    "gamma_samples = gamma.rvs(alpha, scale = 1/beta, size=1000, random_state = 337)\n",
    "\n",
    "\"\"\"\n",
    "TODO: 4. write a function which returns log-likelihood.\n",
    "\"\"\"\n",
    "\n",
    "def logLikelihood(samples, alpha, beta):\n",
    "    n = len(samples)\n",
    "    sample_sum = np.sum(samples)\n",
    "    log_sum = np.sum(np.log(samples))\n",
    "    ### BEGIN SOLUTION\n",
    "    return (alpha - 1)*log_sum - beta*sample_sum + n*alpha*np.log(beta) - n*np.log(special.gamma(alpha))\n",
    "    ### END SOLUTION\n",
    "\n",
    "print(logLikelihood(gamma_samples, alpha, beta))"
   ]
  },
  {
   "cell_type": "markdown",
   "id": "bd3ec037",
   "metadata": {},
   "source": [
    "### 3.1 MLE of $\\beta$ for fixed $\\alpha$\n",
    "\n",
    "Differentiate with respect to $\\beta$ for fixed $\\alpha$, then we have the first-order condition\n",
    "$$\n",
    "\\frac{d}{d\\beta} L(\\alpha, \\beta) = \\frac{n\\alpha}{\\beta} - \\sum_{i=1}^n x_i = 0\n",
    "$$\n",
    "For fixed $\\alpha$, the MLE of $\\beta$ is\n",
    "$$\n",
    "    \\hat{\\beta}_{\\alpha} = \\frac{n \\alpha}{\\sum_{i=1}^n x_i}\\,.\n",
    "$$"
   ]
  },
  {
   "cell_type": "markdown",
   "id": "47117422",
   "metadata": {},
   "source": [
    "### 3.2 MLE of $\\alpha$ for fixed $\\beta$\n",
    "Differentiate with respect to $\\alpha$ for fixed $\\beta$, then we have the first-order condition\n",
    "$$\n",
    "\\frac{d}{d\\alpha} L(\\alpha, \\beta) = \\sum_{i=1}^n \\log x_i + n \\log \\beta - n \\frac{\\Gamma^{\\prime}(\\alpha)}{\\Gamma(\\alpha)} = 0\\,, \\quad \\Gamma^{\\prime}(\\alpha) = \\frac{d \\Gamma(\\alpha)}{d \\alpha}\\,.\n",
    "$$\n",
    "The solution $\\hat{\\alpha}$ to equation above is the MLE of $\\alpha$ when given $\\hat{\\beta}_{\\alpha} = \\frac{n \\alpha}{\\sum_{i=1}^n x_i}$. However, there is no closed-form analytical solution to $\\hat{\\alpha}$. We can only get the solutions numerically."
   ]
  },
  {
   "cell_type": "markdown",
   "id": "de03418b",
   "metadata": {},
   "source": [
    "### 3.3 MLE of $\\alpha$ and $\\beta$ (numerical solution)\n",
    "\n",
    "The solution $(\\hat{\\alpha}, \\hat{\\beta})$ to the following system\n",
    "\\begin{align*}\n",
    "\\frac{\\partial}{\\partial \\alpha} L(\\alpha, \\beta) \\,& = \\sum_{i=1}^n \\log x_i + n \\log \\beta - n \\frac{\\Gamma^{\\prime}(\\alpha)}{\\Gamma(\\alpha)} = 0\\\\\n",
    "\\frac{\\partial}{\\partial \\beta} L(\\alpha, \\beta) \\,&= \\frac{n\\alpha}{\\beta} - \\sum_{i=1}^n x_i = 0\n",
    "\\end{align*}\n",
    "\n",
    "The Hessian of $L(\\alpha, \\beta)$,\n",
    "$$\n",
    "H(\\alpha, \\beta) = \\begin{bmatrix}\n",
    "-\\frac{n}{\\Gamma(\\alpha)^2} [\\Gamma^{\\prime\\prime}(\\alpha)\\Gamma(\\alpha) - (\\Gamma^{\\prime}(\\alpha)^2)] & \\frac{n}{\\beta}\\\\\n",
    "\\frac{n}{\\beta} & -\\frac{n\\alpha}{\\beta^2}\n",
    "\\end{bmatrix}\n",
    "$$\n",
    "\n",
    "If $H(\\alpha, \\beta)$ is negative definite, i.e., all eigenvalues are negative, then the solution $(\\hat{\\alpha}, \\hat{\\beta})$ is the unique maximizer of $L(\\alpha, \\beta)$."
   ]
  },
  {
   "cell_type": "markdown",
   "id": "b4326e6d",
   "metadata": {},
   "source": [
    "* Most numerical optimization systems include a minimizing function because minimizing distances is a common use. We are going to use the function `minimize` from the `scipy.optimize`.\n",
    "\n",
    "* The argument of `minimize` is the name of the function being minimized. This function must only take numerical arguments (more than one is fine) and return a numerical output, and it returns the minimizing argument (or arguments) of the specified function.\n",
    "\n",
    "* Maximizing a function is the same as minimizing the negative of that function. In the cell below, define the function that has to be specified as the argument to `minimize` in order to find the maximum likelihood estimates of $\\alpha$ and $\\beta$. Remember that the function should only take $\\theta = (\\alpha, \\beta)$ as its argument."
   ]
  },
  {
   "cell_type": "code",
   "execution_count": 11,
   "id": "eb2fcb71",
   "metadata": {
    "nbgrader": {
     "grade": false,
     "grade_id": "cell-a005b4845a3c8bb1",
     "locked": false,
     "schema_version": 3,
     "solution": true,
     "task": false
    }
   },
   "outputs": [],
   "source": [
    "\"\"\"\n",
    "TODO: 5. write the target function to minimize\n",
    "\"\"\"\n",
    "\n",
    "def target(theta):\n",
    "    ### BEGIN SOLUTION    \n",
    "    return -1 * logLikelihood(gamma_samples, theta[0], theta[1])\n",
    "    ### END SOLUTION"
   ]
  },
  {
   "cell_type": "code",
   "execution_count": 12,
   "id": "f787cc8f",
   "metadata": {
    "nbgrader": {
     "grade": false,
     "grade_id": "cell-266aeaed729a2ebc",
     "locked": false,
     "schema_version": 3,
     "solution": true,
     "task": false
    }
   },
   "outputs": [
    {
     "data": {
      "text/plain": [
       " final_simplex: (array([[2.01071597, 0.15074426],\n",
       "       [2.010715  , 0.15074416],\n",
       "       [2.01071565, 0.1507442 ]]), array([3473.17734193, 3473.17734193, 3473.17734193]))\n",
       "           fun: 3473.1773419297947\n",
       "       message: 'Optimization terminated successfully.'\n",
       "          nfev: 108\n",
       "           nit: 57\n",
       "        status: 0\n",
       "       success: True\n",
       "             x: array([2.01071597, 0.15074426])"
      ]
     },
     "execution_count": 12,
     "metadata": {},
     "output_type": "execute_result"
    }
   ],
   "source": [
    "bnds = ((0, None), (0, None)) # alpha and beta must be positive\n",
    "x0 = (1, 0.1) # initial guess\n",
    "\n",
    "\"\"\"\n",
    "TODO: 6. minimize the target using scipy.optimize.miniimize and method 'Nelder-Mead'\n",
    "\"\"\"\n",
    "\n",
    "### BEGIN SOLUTION \n",
    "minimize(target, x0, method='Nelder-Mead', bounds=bnds, tol=1e-6)\n",
    "### END SOLUTION"
   ]
  },
  {
   "cell_type": "markdown",
   "id": "aac95ea1",
   "metadata": {},
   "source": [
    "## Part 4: Linear regression\n",
    "\n",
    "### 4.1 Ordinary Least Squares \n",
    "\n",
    "\n",
    "Linear regression fits a linear model with coefficients $\\beta = (\\beta_0, \\beta_1, \\dots, \\beta_p)$ to minimize the residual sum of squares between the observed targets in the dataset, and the targets predicted by the linear approximation. Mathematically, OLS estimator is\n",
    "$$\n",
    "\\hat{\\beta}_{ols} = \\arg \\min_{\\beta} \\| y - X\\beta \\|^2_2\\,.\n",
    "$$\n",
    "\n",
    "\n",
    "\n",
    "A 2013 study in the International Journal of Exercise Science studied collegiate shot put athletes and examined the relation between strength and shot put distance. The population consists of 28 female collegiate athletes. Strength was measured by the the biggest amount (in kilograms) that the athlete lifted in the \"1RM power clean\" in the pre-season. The distance (in meters) was the athlete's personal best."
   ]
  },
  {
   "cell_type": "code",
   "execution_count": 13,
   "id": "8312780b",
   "metadata": {},
   "outputs": [],
   "source": [
    "# Load the dataset\n",
    "shotput = ds.Table.read_table('shotput.csv')\n",
    "shotput_X, shotput_y = shotput['Weight Lifted'], shotput['Shotput Distance']\n",
    "shotput_X = np.reshape(shotput_X, (-1, 1)) # X needs to be in matrix form"
   ]
  },
  {
   "cell_type": "code",
   "execution_count": 14,
   "id": "3e6c5b1a",
   "metadata": {
    "nbgrader": {
     "grade": false,
     "grade_id": "cell-fc285279c94eb8ff",
     "locked": false,
     "schema_version": 3,
     "solution": true,
     "task": false
    }
   },
   "outputs": [
    {
     "name": "stdout",
     "output_type": "stream",
     "text": [
      "=============================\n",
      "ols\n",
      "Coefficients: \n",
      " [0.09834382]\n",
      "Intercept:  5.959629098373954\n",
      "Mean squared error: 1.49\n",
      "Coefficient of determination: 0.80\n"
     ]
    }
   ],
   "source": [
    "# Create linear regression object\n",
    "lr = linear_model.LinearRegression()\n",
    "\n",
    "\"\"\"\n",
    "TODO: 7. fit the model\n",
    "\"\"\"\n",
    "\n",
    "### BEGIN SOLUTION \n",
    "lr.fit(shotput_X, shotput_y)\n",
    "### END SOLUTION\n",
    "\n",
    "shotput_y_pred = lr.predict(shotput_X)\n",
    "shotput = shotput.with_column('Predicted Shotput Distance', shotput_y_pred)\n",
    "print(\"=============================\")\n",
    "print(\"ols\")\n",
    "print(\"Coefficients: \\n\", lr.coef_)\n",
    "print(\"Intercept: \", lr.intercept_)\n",
    "# The mean squared error\n",
    "print(\"Mean squared error: %.2f\" % mean_squared_error(shotput_y, shotput_y_pred))\n",
    "# The coefficient of determination: 1 is perfect prediction\n",
    "print(\"Coefficient of determination: %.2f\" % r2_score(shotput_y, shotput_y_pred))"
   ]
  },
  {
   "cell_type": "code",
   "execution_count": 15,
   "id": "67e20165",
   "metadata": {},
   "outputs": [
    {
     "data": {
      "image/png": "[encoded data removed]",
      "text/plain": [
       "<Figure size 432x288 with 1 Axes>"
      ]
     },
     "metadata": {
      "needs_background": "light"
     },
     "output_type": "display_data"
    }
   ],
   "source": [
    "fig, ax = plt.subplots(1, 1)\n",
    "ax.plot(shotput_X, shotput_y_pred, color=\"blue\", linewidth=3, label = \"Predicted\")\n",
    "ax.scatter(shotput_X, shotput_y, color=\"black\", label = \"Observed\")\n",
    "ax.legend(loc='best', frameon=False)\n",
    "plt.show()"
   ]
  },
  {
   "cell_type": "markdown",
   "id": "ee54ef03",
   "metadata": {},
   "source": [
    "### 4.2 Ridge and Lasso\n",
    "* Reference: https://www.statlearning.com/\n",
    "\n",
    "If $n \\gg p$, that is, the number of observations is much larger than the number of features, then the least squares estimates tend to also have low variance, and hence will perform well on test observations. However, if $n$ is not much larger than $p$, then there can be a lot of variability in the least squares fit, resulting in overfitting and consequently poor predictions on future observations not used in model training.\n",
    "\n",
    "This shrinkage (also known as regularization) has the effect of reducing variance. This technique regularizes coefficient estimates by adding penalty, or equivalently, shrinks the coefficient estimates towards zero. The two best-known techniques for shrinking the regression coefficients towards zero are ridge regression and the lasso.\n",
    "\n",
    "OLS estimator\n",
    "$$\n",
    "\\hat{\\beta}_{ols} = \\arg \\min_{\\beta} \\| y - X\\beta \\|^2_2\\,.\n",
    "$$\n",
    "\n",
    "Ridge estimator:\n",
    "$$\n",
    "\\hat{\\beta}_{ridge} = \\arg \\min_{\\beta} \\| y - X\\beta \\|^2_2 + \\alpha \\|\\beta \\|_2^2\\,,\n",
    "$$\n",
    "\n",
    "Lasso estimator:\n",
    "$$\n",
    "\\hat{\\beta}_{lasso} = \\arg \\min_{\\beta} \\| y - X\\beta \\|^2_2 + \\alpha \\|\\beta \\|_1\\,,\n",
    "$$"
   ]
  },
  {
   "cell_type": "code",
   "execution_count": 16,
   "id": "51b45f12",
   "metadata": {},
   "outputs": [],
   "source": [
    "# Load the diabetes dataset\n",
    "diabetes_X, diabetes_y = datasets.load_diabetes(return_X_y=True)\n",
    "\n",
    "# Use only one feature\n",
    "#diabetes_X = diabetes_X[:, np.newaxis, 2]\n",
    "\n",
    "n_test = 400\n",
    "\n",
    "# Split the data into training/testing sets\n",
    "diabetes_X_train = diabetes_X[:-n_test]\n",
    "diabetes_X_test = diabetes_X[-n_test:]\n",
    "\n",
    "# Split the targets into training/testing sets\n",
    "diabetes_y_train = diabetes_y[:-n_test]\n",
    "diabetes_y_test = diabetes_y[-n_test:]"
   ]
  },
  {
   "cell_type": "code",
   "execution_count": 17,
   "id": "a7c47046",
   "metadata": {},
   "outputs": [],
   "source": [
    "alpha = 0.05\n",
    "\n",
    "classifiers = dict(\n",
    "    ols = linear_model.LinearRegression(), \n",
    "    ridge = linear_model.Ridge(alpha = alpha),\n",
    "    lasso = linear_model.Lasso(alpha = alpha),\n",
    ")"
   ]
  },
  {
   "cell_type": "code",
   "execution_count": 18,
   "id": "7d4a0725",
   "metadata": {
    "nbgrader": {
     "grade": false,
     "grade_id": "cell-81feaf14328b7adc",
     "locked": false,
     "schema_version": 3,
     "solution": true,
     "task": false
    }
   },
   "outputs": [
    {
     "name": "stdout",
     "output_type": "stream",
     "text": [
      "=============================\n",
      "ols\n",
      "Coefficients: \n",
      " [ -133.23501403  -147.26780714   398.2159149    391.41268408\n",
      " -1381.37761065   441.690436     572.86248014   709.53819614\n",
      "  1458.66474463  -420.16344493]\n",
      "Intercept:  145.9851967674698\n",
      "Mean squared error: 4141.69\n",
      "Coefficient of determination: 0.31\n",
      "=============================\n",
      "ridge\n",
      "Coefficients: \n",
      " [ -30.18309598 -102.4970996   323.12631377  239.77071371  -53.27952626\n",
      " -216.12098514 -118.10556656  176.5409809   578.26014749  -69.26111876]\n",
      "Intercept:  149.63413976757354\n",
      "Mean squared error: 3223.09\n",
      "Coefficient of determination: 0.46\n",
      "=============================\n",
      "lasso\n",
      "Coefficients: \n",
      " [ -88.62317439 -134.51621481  399.09556586  332.43748553 -355.26721802\n",
      " -206.59847593    0.          327.66437275 1113.42632535 -403.65677865]\n",
      "Intercept:  146.20933519578386\n",
      "Mean squared error: 3945.94\n",
      "Coefficient of determination: 0.34\n"
     ]
    }
   ],
   "source": [
    "for name, regr in classifiers.items():\n",
    "    # fit the model using traing set\n",
    "    regr.fit(diabetes_X_train, diabetes_y_train)\n",
    "\n",
    "    \"\"\"\n",
    "    TODO: 8. make predictions using test set\n",
    "    \"\"\"\n",
    "\n",
    "    ### BEGIN SOLUTION \n",
    "    diabetes_y_pred = regr.predict(diabetes_X_test)\n",
    "    ### END SOLUTION\n",
    "    \n",
    "    # The coefficients\n",
    "    print(\"=============================\")\n",
    "    print(name)\n",
    "    print(\"Coefficients: \\n\", regr.coef_)\n",
    "    print(\"Intercept: \", regr.intercept_)\n",
    "    # The mean squared error\n",
    "    print(\"Mean squared error: %.2f\" % mean_squared_error(diabetes_y_test, diabetes_y_pred))\n",
    "    # The coefficient of determination: 1 is perfect prediction\n",
    "    print(\"Coefficient of determination: %.2f\" % r2_score(diabetes_y_test, diabetes_y_pred))"
   ]
  },
  {
   "cell_type": "markdown",
   "id": "278cb70c",
   "metadata": {},
   "source": [
    "* As we may see, some of the coefficients estimated by Lasso are exactly zero. Hence, Lasso can also perform variable selection. \n",
    "\n",
    "* For this dataset, $n = 442$ and $p=10$. The performance of Ridge and Lasso is overwhelmed by OLS when $n_{train} \\geq 200$. However, the Ridge and Lasso has lower variance than OLS when $n_{train}$ is not much larger than $p$."
   ]
  },
  {
   "cell_type": "markdown",
   "id": "354ef512",
   "metadata": {},
   "source": [
    "## Submission Instructions\n",
    "\n",
    "\n",
    "### Download Code Portion\n",
    "* Restart the kernel and run all the cells to make sure your code works.\n",
    "* Save your notebook using File > Save and Checkpoint.\n",
    "* Use File > Downland as > PDF via Latex.\n",
    "* Download the PDF file and confirm that none of your work is missing or cut off. \n",
    "* **DO NOT** simply take pictures using your phone. \n",
    "\n",
    "### Submitting ###\n",
    "* Submit the assignment to Lab1 on Gradescope. \n",
    "* **Make sure to assign only the pages with your implementation to the question.**"
   ]
  }
 ],
 "metadata": {
  "celltoolbar": "Create Assignment",
  "kernelspec": {
   "display_name": "Python 3 (clean)",
   "language": "python",
   "name": "python3_clean"
  },
  "language_info": {
   "codemirror_mode": {
    "name": "ipython",
    "version": 3
   },
   "file_extension": ".py",
   "mimetype": "text/x-python",
   "name": "python",
   "nbconvert_exporter": "python",
   "pygments_lexer": "ipython3",
   "version": "3.9.5"
  }
 },
 "nbformat": 4,
 "nbformat_minor": 5
}
