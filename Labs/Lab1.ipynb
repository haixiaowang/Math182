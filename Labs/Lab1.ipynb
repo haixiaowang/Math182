{
 "cells": [
  {
   "cell_type": "markdown",
   "id": "909606a1",
   "metadata": {
    "nbgrader": {
     "grade": false,
     "grade_id": "cell-d5d4fb81cccb7fdd",
     "locked": true,
     "schema_version": 3,
     "solution": false,
     "task": false
    }
   },
   "source": [
    "# Lab 1. Linear Algebra\n",
    "\n",
    "### Due date: Friday 01/14 at 10:59 pm\n",
    "\n",
    "Welcome to lab in DSC 155/Math 182. In this first lab, you will get acquainted with the computing environment of the course and you will start to use Python and some of its libraries. You will learn:\n",
    "\n",
    "- Some basic use of python\n",
    "- How to generate vectors and matrix in Python with numpy \n",
    "- How to do basic operations with vectors and matrix in Python with numpy\n",
    "- How to find eigenvectors and eigenvalues in Python with the module linalg of numpy\n",
    "- Singular value decomposition in Python with the module linalg"
   ]
  },
  {
   "cell_type": "markdown",
   "id": "039c4154",
   "metadata": {
    "nbgrader": {
     "grade": false,
     "grade_id": "cell-780f3b7820419d67",
     "locked": true,
     "schema_version": 3,
     "solution": false,
     "task": false
    }
   },
   "source": [
    "## Part 1. Python Basics\n",
    "\n",
    "\n",
    "#### References: \n",
    "- https://www.w3schools.com/python/\n",
    "\n",
    "- https://web.stanford.edu/class/archive/cs/cs224n/cs224n.1214/readings/cs224n-python-review-code-updated.pdf\n",
    "\n",
    "### 1.1 Variables and operations"
   ]
  },
  {
   "cell_type": "code",
   "execution_count": 1,
   "id": "62eebe6f",
   "metadata": {
    "nbgrader": {
     "grade": false,
     "grade_id": "cell-c700d3767ac23e8d",
     "locked": true,
     "schema_version": 3,
     "solution": false,
     "task": false
    }
   },
   "outputs": [
    {
     "name": "stdout",
     "output_type": "stream",
     "text": [
      "10\n",
      "10.0\n",
      "[1, 2, 3]\n",
      "Hello, Welcome to DSC 155/Math 182\n",
      "True\n",
      "None\n"
     ]
    }
   ],
   "source": [
    "# variables don't need explicit declaration\n",
    "var = 10      # int\n",
    "print(var)\n",
    "\n",
    "var = 10.0    # float\n",
    "print(var)\n",
    "\n",
    "var = [1,2,3] # pointer to list\n",
    "print(var)\n",
    "\n",
    "a = \"Hello\" # string\n",
    "b = \"Welcome to DSC 155\"\n",
    "print( a + \", \" + b + \"/Math 182\")\n",
    "\n",
    "var = True    # boolean\n",
    "print(var)\n",
    "\n",
    "var = None    # empty pointer\n",
    "print(var)"
   ]
  },
  {
   "cell_type": "code",
   "execution_count": 2,
   "id": "8fdda8b1",
   "metadata": {
    "nbgrader": {
     "grade": false,
     "grade_id": "cell-67fa44cb7d460de3",
     "locked": true,
     "schema_version": 3,
     "solution": false,
     "task": false
    }
   },
   "outputs": [
    {
     "name": "stdout",
     "output_type": "stream",
     "text": [
      "10\n",
      "10\n",
      "10.0\n"
     ]
    }
   ],
   "source": [
    "# type conversions\n",
    "var = 10\n",
    "print(int(var))\n",
    "print(str(var))\n",
    "print(float(var))"
   ]
  },
  {
   "cell_type": "code",
   "execution_count": 3,
   "id": "dac0f42b",
   "metadata": {
    "nbgrader": {
     "grade": false,
     "grade_id": "cell-8b0627269daa78de",
     "locked": true,
     "schema_version": 3,
     "solution": false,
     "task": false
    }
   },
   "outputs": [
    {
     "name": "stdout",
     "output_type": "stream",
     "text": [
      "a + b = 13\n",
      "a - b = 7\n",
      "a * b = 30\n",
      "a ^ b = 1000\n",
      "int(a) / b = 3\n",
      "float(a) / b = 3.3333333333333335\n",
      "absolute value of -3 is  3\n",
      "round 3.7 =  4\n",
      "round 2.143 =  2\n"
     ]
    }
   ],
   "source": [
    "# basic math operations\n",
    "a = 10\n",
    "b = 3\n",
    "print(\"a + b =\", a + b)\n",
    "print(\"a - b =\", a - b)\n",
    "print(\"a * b =\", a * b)\n",
    "print(\"a ^ b =\", a ** b)\n",
    "print(\"int(a) / b =\", a//b)   # // for int division\n",
    "print(\"float(a) / b =\", a/b)  # / for float division\n",
    "\n",
    "# All compound assignment operators available\n",
    "# including += -= *= **= /= //= \n",
    "# pre/post in/decrementers not available (++ --)\n",
    "\n",
    "# Some basic function as abs or round are built into the Python language and they are available by default. \n",
    "# The name of the function appears first, followed by expressions in parentheses.\n",
    "print(\"absolute value of -3 is \", abs(-3))\n",
    "print(\"round 3.7 = \", round(3.7))\n",
    "print(\"round 2.143 = \", round(2.143))"
   ]
  },
  {
   "cell_type": "code",
   "execution_count": 4,
   "id": "1fd3f353",
   "metadata": {
    "nbgrader": {
     "grade": false,
     "grade_id": "cell-9692e000165943bc",
     "locked": false,
     "schema_version": 3,
     "solution": true,
     "task": false
    }
   },
   "outputs": [
    {
     "data": {
      "text/plain": [
       "2.25"
      ]
     },
     "execution_count": 4,
     "metadata": {},
     "output_type": "execute_result"
    }
   ],
   "source": [
    "\"\"\"\n",
    "TODO: 1. compute simple numerical expression (2 + 3)/4 + 2^3 - 7 using float division.\n",
    "\"\"\"\n",
    "\n",
    "# Delete raise NotImplementedError()\n",
    "### BEGIN SOLUTION\n",
    "(2 + 3)/4 + 2**3 - 7\n",
    "### END SOLUTION"
   ]
  },
  {
   "cell_type": "markdown",
   "id": "89897323",
   "metadata": {
    "nbgrader": {
     "grade": false,
     "grade_id": "cell-e253e5d0a3d3eb56",
     "locked": true,
     "schema_version": 3,
     "solution": false,
     "task": false
    }
   },
   "source": [
    "Most functions built into the Python language are stored in a collection of functions called a library. An import statement is used to provide access to a library, such as math and operator.\n",
    "\n",
    "Note that anytime you call a function that belongs to a particular module (math), you need to import the library and to call it before the name of the function, followed by dot as math.log(var)\n",
    "\n",
    "If you need a particular function and you don't know the name or how to use it, look for it on the internet. You will find manual references and examples."
   ]
  },
  {
   "cell_type": "code",
   "execution_count": 5,
   "id": "ec78d21c",
   "metadata": {
    "nbgrader": {
     "grade": false,
     "grade_id": "cell-ff0850ab613bb12b",
     "locked": true,
     "schema_version": 3,
     "solution": false,
     "task": false
    }
   },
   "outputs": [
    {
     "name": "stdout",
     "output_type": "stream",
     "text": [
      "square root of 4+5 3.0\n",
      "square root of 4+5 3.0\n",
      "log_2(16) =  4.0\n",
      "log(16) =  2.772588722239781\n",
      "e^2 =  7.38905609893065\n",
      "exp(log(16)) =  15.999999999999998\n"
     ]
    }
   ],
   "source": [
    "import math\n",
    "import operator\n",
    "\n",
    "print(\"square root of 4+5\", math.sqrt(operator.add(4, 5)))\n",
    "print(\"square root of 4+5\", math.sqrt(4 + 5))\n",
    "\n",
    "print(\"log_2(16) = \", math.log(16, 2)) # base 2\n",
    "print(\"log(16) = \", math.log(16))    # base e\n",
    "print(\"e^2 = \", math.exp(2))\n",
    "print(\"exp(log(16)) = \", math.exp(math.log(16)))"
   ]
  },
  {
   "cell_type": "markdown",
   "id": "0f988d8b",
   "metadata": {
    "nbgrader": {
     "grade": false,
     "grade_id": "cell-843d0a387a34d265",
     "locked": true,
     "schema_version": 3,
     "solution": false,
     "task": false
    }
   },
   "source": [
    "### 1.2 if-else and loops"
   ]
  },
  {
   "cell_type": "code",
   "execution_count": 6,
   "id": "6f91233f",
   "metadata": {
    "nbgrader": {
     "grade": false,
     "grade_id": "cell-1649a0f6a877014b",
     "locked": true,
     "schema_version": 3,
     "solution": false,
     "task": false
    }
   },
   "outputs": [
    {
     "name": "stdout",
     "output_type": "stream",
     "text": [
      "<\n"
     ]
    }
   ],
   "source": [
    "# if-else\n",
    "var = 3\n",
    "if var > 5:\n",
    "    print(\">\")\n",
    "elif var == 5:\n",
    "    print(\"=\")\n",
    "else:\n",
    "    print(\"<\")"
   ]
  },
  {
   "cell_type": "code",
   "execution_count": 7,
   "id": "307a4589",
   "metadata": {
    "nbgrader": {
     "grade": false,
     "grade_id": "cell-a00a2bee34fb71df",
     "locked": true,
     "schema_version": 3,
     "solution": false,
     "task": false
    }
   },
   "outputs": [
    {
     "name": "stdout",
     "output_type": "stream",
     "text": [
      "string\n"
     ]
    }
   ],
   "source": [
    "# use \"if\" to check null pointer or empty arrays\n",
    "var = None\n",
    "if var: \n",
    "    print(var)\n",
    "var = []\n",
    "if var:\n",
    "    print(var)\n",
    "var = \"string\"\n",
    "if var:\n",
    "    print(var)"
   ]
  },
  {
   "cell_type": "code",
   "execution_count": 8,
   "id": "d6e38f1e",
   "metadata": {
    "nbgrader": {
     "grade": false,
     "grade_id": "cell-326299e629783b27",
     "locked": true,
     "schema_version": 3,
     "solution": false,
     "task": false
    }
   },
   "outputs": [
    {
     "name": "stdout",
     "output_type": "stream",
     "text": [
      "7\n",
      "6\n",
      "5\n",
      "4\n",
      "3\n",
      "2\n",
      "1\n"
     ]
    }
   ],
   "source": [
    "# while-loop\n",
    "var = 7\n",
    "while var > 0:\n",
    "    print(var)\n",
    "    var -=1"
   ]
  },
  {
   "cell_type": "code",
   "execution_count": 9,
   "id": "6545cfd9",
   "metadata": {
    "nbgrader": {
     "grade": false,
     "grade_id": "cell-0d9aa765f5c06140",
     "locked": true,
     "schema_version": 3,
     "solution": false,
     "task": false
    }
   },
   "outputs": [
    {
     "name": "stdout",
     "output_type": "stream",
     "text": [
      "0\n",
      "1\n",
      "2\n",
      "3\n",
      "4\n",
      "-------\n",
      "1\n",
      "3\n",
      "5\n",
      "7\n",
      "9\n",
      "-------\n",
      "5\n",
      "3\n",
      "1\n",
      "-1\n",
      "-3\n"
     ]
    }
   ],
   "source": [
    "# for-loop\n",
    "for i in range(5):  # prints 0 1 2 3 4\n",
    "    print(i)\n",
    "print(\"-------\")\n",
    "\n",
    "# range (start-inclusive, stop-exclusive, step)\n",
    "for i in range(1, 10, 2): \n",
    "    print(i)\n",
    "print(\"-------\")\n",
    "\n",
    "for i in range(5, -5, -2): \n",
    "    print(i)"
   ]
  },
  {
   "cell_type": "code",
   "execution_count": 10,
   "id": "6f35b584",
   "metadata": {
    "nbgrader": {
     "grade": false,
     "grade_id": "cell-9b48ac6306cf0694",
     "locked": true,
     "schema_version": 3,
     "solution": false,
     "task": false
    }
   },
   "outputs": [
    {
     "name": "stdout",
     "output_type": "stream",
     "text": [
      "inner loop 0\n",
      "inner loop 1\n",
      "inner loop 2\n",
      "outer loop 0\n",
      "inner loop 1\n",
      "inner loop 2\n",
      "outer loop 1\n",
      "inner loop 2\n",
      "outer loop 2\n"
     ]
    }
   ],
   "source": [
    "# control flows\n",
    "# NOTE: No parentheses or curly braces\n",
    "#       Indentation is used to identify code blocks\n",
    "#       So never ever mix spaces with tabs\n",
    "for i in range(0,3):\n",
    "    for j in range(i, 3):\n",
    "        print(\"inner loop\", j)\n",
    "    print(\"outer loop\", i)"
   ]
  },
  {
   "cell_type": "markdown",
   "id": "40d67166",
   "metadata": {
    "nbgrader": {
     "grade": false,
     "grade_id": "cell-b561ea3a23294101",
     "locked": true,
     "schema_version": 3,
     "solution": false,
     "task": false
    }
   },
   "source": [
    "### 1.3 function and class\n",
    "\n",
    "In Python, you can also create your own function, using the statement 'def'. In the following, we create a function that squares a number and adds 1."
   ]
  },
  {
   "cell_type": "code",
   "execution_count": 11,
   "id": "8e0d4a86",
   "metadata": {
    "nbgrader": {
     "grade": false,
     "grade_id": "cell-a493abf54caa77e5",
     "locked": true,
     "schema_version": 3,
     "solution": false,
     "task": false
    }
   },
   "outputs": [
    {
     "name": "stdout",
     "output_type": "stream",
     "text": [
      "1\n",
      "2\n",
      "5\n"
     ]
    }
   ],
   "source": [
    "def f(x):\n",
    "    return x**2+1\n",
    "\n",
    "for i in range(3):\n",
    "    print(f(i))"
   ]
  },
  {
   "cell_type": "code",
   "execution_count": 12,
   "id": "e1314f58",
   "metadata": {
    "nbgrader": {
     "grade": false,
     "grade_id": "cell-a272d98c0906e68b",
     "locked": true,
     "schema_version": 3,
     "solution": false,
     "task": false
    }
   },
   "outputs": [
    {
     "name": "stdout",
     "output_type": "stream",
     "text": [
      "Is 3 in (0, 10): True\n",
      "Is 3 in (4, 10): False\n",
      "Is 3 in (0, 2): False\n",
      "Is 3 in (4, 7): False\n"
     ]
    }
   ],
   "source": [
    "# use default parameters and pass values by parameter name\n",
    "def rangeCheck(a, min_val = 0, max_val=10):\n",
    "    return min_val < a < max_val    # syntactic sugar\n",
    "\n",
    "print(\"Is 3 in (0, 10):\", rangeCheck(3))\n",
    "print(\"Is 3 in (4, 10):\", rangeCheck(3, min_val = 4))\n",
    "print(\"Is 3 in (0, 2):\", rangeCheck(3, max_val = 2))\n",
    "print(\"Is 3 in (4, 7):\", rangeCheck(3, min_val = 4, max_val = 7))"
   ]
  },
  {
   "cell_type": "code",
   "execution_count": 13,
   "id": "2382deb2",
   "metadata": {
    "nbgrader": {
     "grade": false,
     "grade_id": "cell-9734c935d854b317",
     "locked": true,
     "schema_version": 3,
     "solution": false,
     "task": false
    }
   },
   "outputs": [
    {
     "name": "stdout",
     "output_type": "stream",
     "text": [
      "Color: white\n",
      "Weight: 2000\n"
     ]
    }
   ],
   "source": [
    "# define class\n",
    "class Car:\n",
    "    \n",
    "    # optinal constructor\n",
    "    def __init__(self, color, weight):\n",
    "        # first parameter \"self\" for instance reference.\n",
    "        self.color = color\n",
    "        self.weight = weight\n",
    "    \n",
    "    # instance method\n",
    "    def printInfo(self): # instance reference is required for all function parameters\n",
    "        print(\"Color:\", self.color)\n",
    "        print(\"Weight:\", self.weight)\n",
    "        \n",
    "        \n",
    "car1 = Car(\"white\", 2000)\n",
    "car1.printInfo()"
   ]
  },
  {
   "cell_type": "markdown",
   "id": "bb67eeec",
   "metadata": {
    "nbgrader": {
     "grade": false,
     "grade_id": "cell-67a4ef2ad8d9a58d",
     "locked": true,
     "schema_version": 3,
     "solution": false,
     "task": false
    }
   },
   "source": [
    "## Part 2. Numpy\n",
    "\n",
    "Numpy is a very powerful python tool for handling matrices and higher dimensional arrays. In the following, we will use np as a shorthand for numpy."
   ]
  },
  {
   "cell_type": "code",
   "execution_count": 14,
   "id": "9ab46314",
   "metadata": {
    "nbgrader": {
     "grade": false,
     "grade_id": "cell-972ccee86df744df",
     "locked": true,
     "schema_version": 3,
     "solution": false,
     "task": false
    }
   },
   "outputs": [],
   "source": [
    "import numpy as np"
   ]
  },
  {
   "cell_type": "code",
   "execution_count": 15,
   "id": "2127343f",
   "metadata": {
    "nbgrader": {
     "grade": false,
     "grade_id": "cell-c1ba00879d530780",
     "locked": true,
     "schema_version": 3,
     "solution": false,
     "task": false
    }
   },
   "outputs": [
    {
     "name": "stdout",
     "output_type": "stream",
     "text": [
      "[[1 2 3]\n",
      " [1 4 6]\n",
      " [7 8 9]]\n",
      "(3, 3)\n",
      "-------\n",
      "[1 2 3]\n",
      "(3,)\n",
      "-------\n",
      "[[1]\n",
      " [2]\n",
      " [3]]\n",
      "(3, 1)\n"
     ]
    }
   ],
   "source": [
    "# create matrices and vectors. \n",
    "M = np.array(([1,2,3],\n",
    "            [1,4,6],\n",
    "            [7,8,9])) \n",
    "\n",
    "print(M)\n",
    "print(M.shape) # visualise the dimension of the array\n",
    "print(\"-------\")\n",
    "\n",
    "v = np.array([1, 2, 3])\n",
    "print(v)\n",
    "print(v.shape)\n",
    "print(\"-------\")\n",
    "\n",
    "v = np.array(([1],\n",
    "            [2],\n",
    "            [3]))\n",
    "print(v)\n",
    "print(v.shape)"
   ]
  },
  {
   "cell_type": "markdown",
   "id": "cc628ba4",
   "metadata": {
    "nbgrader": {
     "grade": false,
     "grade_id": "cell-8166bd211fad54b5",
     "locked": true,
     "schema_version": 3,
     "solution": false,
     "task": false
    }
   },
   "source": [
    "Numpy provides also many convenient functions for creating matrices and vectors, such as"
   ]
  },
  {
   "cell_type": "code",
   "execution_count": 16,
   "id": "56ac8366",
   "metadata": {
    "nbgrader": {
     "grade": false,
     "grade_id": "cell-ab1119f9304fd0e9",
     "locked": true,
     "schema_version": 3,
     "solution": false,
     "task": false
    }
   },
   "outputs": [
    {
     "name": "stdout",
     "output_type": "stream",
     "text": [
      "[[0. 0. 0. 0.]\n",
      " [0. 0. 0. 0.]\n",
      " [0. 0. 0. 0.]]\n",
      "--------------\n",
      "[[1. 1. 1.]\n",
      " [1. 1. 1.]\n",
      " [1. 1. 1.]\n",
      " [1. 1. 1.]]\n",
      "--------------\n",
      "[[1. 0. 0.]\n",
      " [0. 1. 0.]\n",
      " [0. 0. 1.]]\n",
      "--------------\n",
      "[[4 4 4]\n",
      " [4 4 4]\n",
      " [4 4 4]]\n"
     ]
    }
   ],
   "source": [
    "print(np.zeros((3,4))) # all zero matrix\n",
    "print(\"--------------\")\n",
    "print(np.ones((4,3))) # all one matrix\n",
    "print(\"--------------\")\n",
    "print(np.eye(3)) # eye denotes the identity matrix\n",
    "print(\"--------------\")\n",
    "print(np.full((3,3), 4)) # This will have the same output as 4*np.ones((3,3))"
   ]
  },
  {
   "cell_type": "markdown",
   "id": "f03ce013",
   "metadata": {
    "nbgrader": {
     "grade": false,
     "grade_id": "cell-e8eae42ba0e66e48",
     "locked": true,
     "schema_version": 3,
     "solution": false,
     "task": false
    }
   },
   "source": [
    "You can use the plus and the minus symbol to perform addition and subtraction between arrays. At the same time, you can also create a matrix from different vectors using the function vstack, hstack or concatenate."
   ]
  },
  {
   "cell_type": "code",
   "execution_count": 17,
   "id": "b04fe464",
   "metadata": {
    "nbgrader": {
     "grade": false,
     "grade_id": "cell-ebd6e8bdd793f0f4",
     "locked": true,
     "schema_version": 3,
     "solution": false,
     "task": false
    }
   },
   "outputs": [
    {
     "name": "stdout",
     "output_type": "stream",
     "text": [
      "[5 7 9]\n",
      "[-6 -6 -6]\n",
      "--------------\n",
      "[[1 2 3]\n",
      " [4 5 6]\n",
      " [7 8 9]]\n",
      "--------------\n",
      "[1 2 3 4 5 6 7 8 9]\n"
     ]
    }
   ],
   "source": [
    "v1 = np.array([1,2,3])\n",
    "v2 = np.array([4,5,6])\n",
    "v3 = np.array([7,8,9])\n",
    "print(v1 + v2)\n",
    "print(v1 - v3)\n",
    "print(\"--------------\")\n",
    "\n",
    "print(np.vstack([v1,v2,v3]))\n",
    "print(\"--------------\")\n",
    "print(np.hstack([v1,v2,v3]))"
   ]
  },
  {
   "cell_type": "code",
   "execution_count": 18,
   "id": "4adca8be",
   "metadata": {
    "nbgrader": {
     "grade": false,
     "grade_id": "cell-4bfc9cd07ece38c1",
     "locked": false,
     "schema_version": 3,
     "solution": true,
     "task": false
    }
   },
   "outputs": [
    {
     "data": {
      "text/plain": [
       "array([[-2,  0,  0],\n",
       "       [ 0, -1,  0],\n",
       "       [ 0,  0,  0]])"
      ]
     },
     "execution_count": 18,
     "metadata": {},
     "output_type": "execute_result"
    }
   ],
   "source": [
    "\"\"\"\n",
    "TODO: 2. create a 3*3 zero matrix and put elements of vector v1 + v2 - v3 on diagonal\n",
    "HINT: np.diag\n",
    "\"\"\"\n",
    "# Delete raise NotImplementedError()\n",
    "### BEGIN SOLUTION\n",
    "np.diag(v1 + v2 - v3)\n",
    "### END SOLUTION"
   ]
  },
  {
   "cell_type": "code",
   "execution_count": 19,
   "id": "ebcf7348",
   "metadata": {
    "nbgrader": {
     "grade": false,
     "grade_id": "cell-f9b0170e598f2b49",
     "locked": true,
     "schema_version": 3,
     "solution": false,
     "task": false
    }
   },
   "outputs": [
    {
     "name": "stdout",
     "output_type": "stream",
     "text": [
      "[[1. 1. 1.]\n",
      " [1. 1. 1.]\n",
      " [1. 1. 1.]\n",
      " [1. 1. 1.]\n",
      " [1. 1. 1.]\n",
      " [1. 1. 1.]\n",
      " [1. 1. 1.]\n",
      " [1. 1. 1.]]\n",
      "(8, 3)\n",
      "--------------\n",
      "[[1. 1. 1. 1. 1. 1.]\n",
      " [1. 1. 1. 1. 1. 1.]\n",
      " [1. 1. 1. 1. 1. 1.]\n",
      " [1. 1. 1. 1. 1. 1.]]\n",
      "(4, 6)\n"
     ]
    }
   ],
   "source": [
    "# concatenating arrays\n",
    "a = np.ones((4,3))\n",
    "b = np.ones((4,3))\n",
    "c = np.concatenate([a,b], 0)\n",
    "print(c)\n",
    "print(c.shape)\n",
    "print(\"--------------\")\n",
    "d = np.concatenate([a,b], 1)\n",
    "print(d)\n",
    "print(d.shape)"
   ]
  },
  {
   "cell_type": "code",
   "execution_count": 20,
   "id": "d6c74dec",
   "metadata": {
    "nbgrader": {
     "grade": false,
     "grade_id": "cell-3fb7f002ba959a64",
     "locked": true,
     "schema_version": 3,
     "solution": false,
     "task": false
    }
   },
   "outputs": [
    {
     "name": "stdout",
     "output_type": "stream",
     "text": [
      "[[3. 3. 3. 1. 1. 1. 1. 1. 1. 1.]\n",
      " [3. 3. 3. 1. 1. 1. 1. 1. 1. 1.]\n",
      " [3. 3. 3. 1. 1. 1. 1. 1. 1. 1.]\n",
      " [2. 2. 2. 0. 0. 0. 0. 0. 0. 0.]\n",
      " [2. 2. 2. 0. 0. 0. 0. 0. 0. 4.]\n",
      " [2. 2. 2. 0. 0. 0. 0. 0. 0. 0.]\n",
      " [2. 2. 2. 4. 0. 0. 0. 0. 0. 0.]\n",
      " [2. 2. 2. 0. 0. 4. 0. 0. 0. 0.]\n",
      " [2. 2. 2. 0. 0. 0. 0. 0. 0. 0.]\n",
      " [2. 2. 2. 0. 0. 0. 0. 0. 0. 0.]]\n",
      "--------------\n",
      "3.0\n",
      "--------------\n",
      "[[3. 3. 3. 1. 1. 1. 1. 1. 1. 1.]\n",
      " [3. 3. 3. 1. 1. 1. 1. 1. 1. 1.]]\n"
     ]
    }
   ],
   "source": [
    "# access array slices by index\n",
    "M = np.zeros([10, 10])\n",
    "M[:3] = 1\n",
    "M[:, :3] = 2\n",
    "M[:3, :3] = 3\n",
    "rows = [4,6,7]\n",
    "cols = [9,3,5]\n",
    "M[rows, cols] = 4\n",
    "print(M)\n",
    "print(\"--------------\")\n",
    "print(M[0,2])\n",
    "print(\"--------------\")\n",
    "print(M[np.array((0,2)),:])"
   ]
  },
  {
   "cell_type": "code",
   "execution_count": 21,
   "id": "4b0501f4",
   "metadata": {
    "nbgrader": {
     "grade": false,
     "grade_id": "cell-3a7fc358ba6c04d2",
     "locked": true,
     "schema_version": 3,
     "solution": false,
     "task": false
    }
   },
   "outputs": [
    {
     "name": "stdout",
     "output_type": "stream",
     "text": [
      "[0 1 2 3 4 5 6 7]\n",
      "[[0 1]\n",
      " [2 3]\n",
      " [4 5]\n",
      " [6 7]]\n",
      "[[[0 1]\n",
      "  [2 3]]\n",
      "\n",
      " [[4 5]\n",
      "  [6 7]]]\n",
      "[0 1 2 3 4 5 6 7]\n",
      "[[0 1 2 3 4 5 6 7]]\n",
      "[[0]\n",
      " [1]\n",
      " [2]\n",
      " [3]\n",
      " [4]\n",
      " [5]\n",
      " [6]\n",
      " [7]]\n",
      "[0 1 2 3 4 5 6 7]\n"
     ]
    }
   ],
   "source": [
    "# reshaping arrays\n",
    "a = np.arange(8)         # [8,] similar range() you use in for-loops\n",
    "b = a.reshape((4,2))     # shape [4,2]\n",
    "c = a.reshape((2,2,-1))  # shape [2,2,2] -- -1 for auto-fill\n",
    "d = c.flatten()          # shape [8,]\n",
    "e = np.expand_dims(a, 0) # [1,8]\n",
    "f = np.expand_dims(a, 1) # [8,1]\n",
    "g = e.squeeze()          # shape[8, ]    -- remove all unnecessary dimensions\n",
    "print(a)\n",
    "print(b)\n",
    "print(c)\n",
    "print(d)\n",
    "print(e)\n",
    "print(f)\n",
    "print(g)"
   ]
  },
  {
   "cell_type": "code",
   "execution_count": 22,
   "id": "f81ccffa",
   "metadata": {
    "nbgrader": {
     "grade": false,
     "grade_id": "cell-d2eba4f9ca598aa7",
     "locked": true,
     "schema_version": 3,
     "solution": false,
     "task": false
    }
   },
   "outputs": [
    {
     "name": "stdout",
     "output_type": "stream",
     "text": [
      "[[1 1 7]\n",
      " [2 4 8]\n",
      " [3 6 9]]\n",
      "(3, 3)\n",
      "--------------\n",
      "[[[ 0  1  2  3]\n",
      "  [ 4  5  6  7]\n",
      "  [ 8  9 10 11]]\n",
      "\n",
      " [[12 13 14 15]\n",
      "  [16 17 18 19]\n",
      "  [20 21 22 23]]]\n",
      "(2, 3, 4)\n",
      "--------------\n",
      "[[[ 0 12]\n",
      "  [ 4 16]\n",
      "  [ 8 20]]\n",
      "\n",
      " [[ 1 13]\n",
      "  [ 5 17]\n",
      "  [ 9 21]]\n",
      "\n",
      " [[ 2 14]\n",
      "  [ 6 18]\n",
      "  [10 22]]\n",
      "\n",
      " [[ 3 15]\n",
      "  [ 7 19]\n",
      "  [11 23]]]\n",
      "(4, 3, 2)\n"
     ]
    }
   ],
   "source": [
    "# transposition\n",
    "M = np.array(([1,2,3],\n",
    "            [1,4,6],\n",
    "            [7,8,9]))\n",
    "print(M.T)\n",
    "print(M.shape)\n",
    "print(\"--------------\")\n",
    "\n",
    "M = np.arange(24).reshape(2,3,4)\n",
    "print(M)\n",
    "print(M.shape)\n",
    "print(\"--------------\")\n",
    "\n",
    "M = np.transpose(M, (2,1,0)) # swap 0th and 2nd axes\n",
    "print(M)\n",
    "print(M.shape)"
   ]
  },
  {
   "cell_type": "markdown",
   "id": "ea3bc3bf",
   "metadata": {
    "nbgrader": {
     "grade": false,
     "grade_id": "cell-c77b4b4233993e83",
     "locked": true,
     "schema_version": 3,
     "solution": false,
     "task": false
    }
   },
   "source": [
    "You can use np.dot(array1,array2) to do the dot product between array1 and array2.\n",
    "Note that if array1 is a matrix and array2 is a vector, this is equivalent to do the usual matrix-vector multiplication.\n",
    "If array1 and array2 are matrices, this is equivalent to do the usual matrix-matrix multiplication.\n",
    "\n",
    "Be careful with the dimensions of the two arrays. As you know, the second dimension of array1 needs to be the same as the first dimension of array2."
   ]
  },
  {
   "cell_type": "code",
   "execution_count": 23,
   "id": "904d9b7e",
   "metadata": {
    "nbgrader": {
     "grade": false,
     "grade_id": "cell-c0809e9605d59558",
     "locked": true,
     "schema_version": 3,
     "solution": false,
     "task": false
    }
   },
   "outputs": [
    {
     "name": "stdout",
     "output_type": "stream",
     "text": [
      "11\n",
      "--------------\n",
      "[[14]\n",
      " [27]\n",
      " [50]]\n",
      "--------------\n",
      "[[ 51  62  72]\n",
      " [ 62  84 102]\n",
      " [ 72 102 126]]\n",
      "--------------\n",
      "[[14]]\n",
      "This is equivalent to || v ||^2\n",
      "14.0\n"
     ]
    }
   ],
   "source": [
    "# dot product\n",
    "a = np.array([1,2])\n",
    "b = np.array([3,4])\n",
    "print(np.dot(a,b)) # Compute a*b\n",
    "print(\"--------------\")\n",
    "\n",
    "M = np.array(([1,2,3],\n",
    "            [1,4,6],\n",
    "            [7,8,9]))\n",
    "v = np.array(([1],\n",
    "            [2],\n",
    "            [3]))\n",
    "print(np.dot(M,v)) # Compute M*v\n",
    "print(\"--------------\")\n",
    "print(np.dot(M.T,M)) # Compute M^T * M\n",
    "print(\"--------------\")\n",
    "print(np.dot(v.T,v)) # Compute v^T * v\n",
    "print(\"This is equivalent to || v ||^2\")\n",
    "print(np.linalg.norm(v)**2) # l2 norm by default"
   ]
  },
  {
   "cell_type": "code",
   "execution_count": 24,
   "id": "a105e92d",
   "metadata": {
    "nbgrader": {
     "grade": false,
     "grade_id": "cell-10cc622c25036512",
     "locked": true,
     "schema_version": 3,
     "solution": false,
     "task": false
    }
   },
   "outputs": [
    {
     "name": "stdout",
     "output_type": "stream",
     "text": [
      "[[1 2 3]\n",
      " [1 4 6]\n",
      " [7 8 9]]\n",
      "16.15549442140351\n",
      "--------------\n",
      "41\n",
      "--------------\n",
      "[ 9 14 18]\n",
      "[ 6 11 24]\n"
     ]
    }
   ],
   "source": [
    "print(M)\n",
    "print(np.linalg.norm(M))\n",
    "print(\"--------------\")\n",
    "# summing a matrix\n",
    "print(np.sum(M))\n",
    "print(\"--------------\")\n",
    "# the optional axis parameter\n",
    "print(np.sum(M, axis=0)) # sum along axis 0\n",
    "print(np.sum(M, axis=1)) # sum along axis 1"
   ]
  },
  {
   "cell_type": "code",
   "execution_count": 25,
   "id": "57261a2e",
   "metadata": {
    "nbgrader": {
     "grade": false,
     "grade_id": "cell-7e5103a4581140f7",
     "locked": true,
     "schema_version": 3,
     "solution": false,
     "task": false
    }
   },
   "outputs": [
    {
     "name": "stdout",
     "output_type": "stream",
     "text": [
      "[[4.]\n",
      " [4.]\n",
      " [4.]\n",
      " [4.]\n",
      " [4.]]\n",
      "[[4.]\n",
      " [4.]\n",
      " [4.]\n",
      " [4.]\n",
      " [4.]]\n",
      "[[4.]\n",
      " [4.]\n",
      " [4.]\n",
      " [4.]\n",
      " [4.]]\n",
      "--------------\n",
      "[[5.]\n",
      " [6.]\n",
      " [7.]\n",
      " [8.]\n",
      " [9.]]\n",
      "(3, 10)\n"
     ]
    }
   ],
   "source": [
    "# matrix multiplication\n",
    "a = np.ones((5,4)) # 5,4\n",
    "b = np.ones((4,1)) # 4,1 --> 5,1\n",
    "print(a @ b)       # same as a.dot(b)\n",
    "print(a.dot(b))\n",
    "print(np.dot(a,b))\n",
    "print(\"--------------\")\n",
    "\n",
    "# automatic repetition along axis\n",
    "c = a @ b   \n",
    "d = np.array([1,2,3,4,5]).reshape(5,1)\n",
    "print(c + d)\n",
    "\n",
    "# handy for batch operation\n",
    "batch = np.ones((3,32))\n",
    "weight = np.ones((32,10))\n",
    "bias = np.ones((1,10))\n",
    "print((batch @ weight + bias).shape)"
   ]
  },
  {
   "cell_type": "code",
   "execution_count": 26,
   "id": "3685feab",
   "metadata": {
    "nbgrader": {
     "grade": false,
     "grade_id": "cell-89663d41ec3addee",
     "locked": true,
     "schema_version": 3,
     "solution": false,
     "task": false
    }
   },
   "outputs": [
    {
     "name": "stdout",
     "output_type": "stream",
     "text": [
      "[[0. 0. 0. 0. 0.]\n",
      " [0. 0. 0. 0. 0.]\n",
      " [0. 0. 0. 0. 0.]\n",
      " [0. 0. 0. 0. 0.]\n",
      " [0. 0. 0. 0. 0.]]\n",
      "[[2.71828183 2.71828183 2.71828183 2.71828183 2.71828183]\n",
      " [2.71828183 2.71828183 2.71828183 2.71828183 2.71828183]\n",
      " [2.71828183 2.71828183 2.71828183 2.71828183 2.71828183]\n",
      " [2.71828183 2.71828183 2.71828183 2.71828183 2.71828183]\n",
      " [2.71828183 2.71828183 2.71828183 2.71828183 2.71828183]]\n",
      "[[0.84147098 0.84147098 0.84147098 0.84147098 0.84147098]\n",
      " [0.84147098 0.84147098 0.84147098 0.84147098 0.84147098]\n",
      " [0.84147098 0.84147098 0.84147098 0.84147098 0.84147098]\n",
      " [0.84147098 0.84147098 0.84147098 0.84147098 0.84147098]\n",
      " [0.84147098 0.84147098 0.84147098 0.84147098 0.84147098]]\n",
      "[[3. 3. 3. 3. 3.]\n",
      " [3. 3. 3. 3. 3.]\n",
      " [3. 3. 3. 3. 3.]\n",
      " [3. 3. 3. 3. 3.]\n",
      " [3. 3. 3. 3. 3.]]\n"
     ]
    }
   ],
   "source": [
    "# element-wise operations, for examples\n",
    "M = np.ones((5,5))\n",
    "\n",
    "print(np.log(M))\n",
    "print(np.exp(M))\n",
    "print(np.sin(M))\n",
    "# operation with scalar is interpreted as element-wise\n",
    "print(M * 3) "
   ]
  },
  {
   "cell_type": "markdown",
   "id": "3ad1a232",
   "metadata": {
    "nbgrader": {
     "grade": false,
     "grade_id": "cell-774138e29ab9ea38",
     "locked": true,
     "schema_version": 3,
     "solution": false,
     "task": false
    }
   },
   "source": [
    "You can use np.multiply(array1,array2) to do elementwise multiplications."
   ]
  },
  {
   "cell_type": "code",
   "execution_count": 27,
   "id": "a05b7e2e",
   "metadata": {
    "nbgrader": {
     "grade": false,
     "grade_id": "cell-ec691fb5e49e8e13",
     "locked": true,
     "schema_version": 3,
     "solution": false,
     "task": false
    }
   },
   "outputs": [
    {
     "name": "stdout",
     "output_type": "stream",
     "text": [
      "[[ 1  2  3]\n",
      " [ 2  8 12]\n",
      " [21 24 27]]\n",
      "[[ 1  2  3]\n",
      " [ 2  8 12]\n",
      " [21 24 27]]\n"
     ]
    }
   ],
   "source": [
    "M = np.array(([1,2,3],\n",
    "            [1,4,6],\n",
    "            [7,8,9]))\n",
    "v = np.array(([1],\n",
    "            [2],\n",
    "            [3]))\n",
    "\n",
    "print(np.multiply(M,v)) # the same of using the multiplication symbol in Python. \n",
    "print(M*v)"
   ]
  },
  {
   "cell_type": "markdown",
   "id": "cc90368a",
   "metadata": {
    "nbgrader": {
     "grade": false,
     "grade_id": "cell-46acd3d315281cf1",
     "locked": true,
     "schema_version": 3,
     "solution": false,
     "task": false
    }
   },
   "source": [
    "You can also use Python to find the the inverse of a matrix, if it exists. For this, you need the module linalg.inv, or pseudo inversion for stability"
   ]
  },
  {
   "cell_type": "code",
   "execution_count": 28,
   "id": "c9f14bae",
   "metadata": {
    "nbgrader": {
     "grade": false,
     "grade_id": "cell-4cd09511918de978",
     "locked": true,
     "schema_version": 3,
     "solution": false,
     "task": false
    }
   },
   "outputs": [
    {
     "name": "stdout",
     "output_type": "stream",
     "text": [
      "[[ 2.         -1.          0.        ]\n",
      " [-5.5         2.          0.5       ]\n",
      " [ 3.33333333 -1.         -0.33333333]]\n",
      "[[ 2.00000000e+00 -1.00000000e+00 -5.21827944e-17]\n",
      " [-5.50000000e+00  2.00000000e+00  5.00000000e-01]\n",
      " [ 3.33333333e+00 -1.00000000e+00 -3.33333333e-01]]\n"
     ]
    }
   ],
   "source": [
    "print(np.linalg.inv(M))\n",
    "# pinv is pseudo inversion for stability\n",
    "print(np.linalg.pinv(M))"
   ]
  },
  {
   "cell_type": "markdown",
   "id": "bc2efa72",
   "metadata": {
    "nbgrader": {
     "grade": false,
     "grade_id": "cell-101512108413f88c",
     "locked": true,
     "schema_version": 3,
     "solution": false,
     "task": false
    }
   },
   "source": [
    "## Part 3: Eigenvalues and  Eigenvectors\n",
    "\n",
    "#### Reference\n",
    "- https://numpy.org/doc/stable/reference/generated/numpy.linalg.eig.html"
   ]
  },
  {
   "cell_type": "code",
   "execution_count": 29,
   "id": "ef0e35ff",
   "metadata": {
    "nbgrader": {
     "grade": false,
     "grade_id": "cell-23acc2617e6c8638",
     "locked": true,
     "schema_version": 3,
     "solution": false,
     "task": false
    }
   },
   "outputs": [
    {
     "name": "stdout",
     "output_type": "stream",
     "text": [
      "[[10. 10.  3.  3.]\n",
      " [10. 10.  3.  3.]\n",
      " [ 3.  3. 10. 10.]\n",
      " [ 3.  3. 10. 10.]]\n"
     ]
    }
   ],
   "source": [
    "a = 10\n",
    "b = 3\n",
    "n = 4\n",
    "M = b*np.ones([n, n])\n",
    "M[:int(n/2), :int(n/2)] = a\n",
    "M[int(n/2):n, int(n/2):n] = a\n",
    "print(M)"
   ]
  },
  {
   "cell_type": "code",
   "execution_count": 30,
   "id": "c2ce7832",
   "metadata": {
    "nbgrader": {
     "grade": false,
     "grade_id": "cell-8f3961549ccadb25",
     "locked": true,
     "schema_version": 3,
     "solution": false,
     "task": false
    }
   },
   "outputs": [
    {
     "name": "stdout",
     "output_type": "stream",
     "text": [
      "[-9.83743471e-16  9.55650516e-17  1.40000000e+01  2.60000000e+01]\n"
     ]
    }
   ],
   "source": [
    "eigvals, eigvecs = np.linalg.eigh(M)\n",
    "# Eigenvalues are not necessarily ordered, nor are they necessarily real for real matrices.\n",
    "# When computing eigenvalues and eigenvectors, it is better to use np.linalg.eigh rather than np.linalg.eig\n",
    "\n",
    "print(eigvals) # The eigenvalues are actually [26, 14, 0, 0], up to some small computational errors."
   ]
  },
  {
   "cell_type": "code",
   "execution_count": 31,
   "id": "7375bf88",
   "metadata": {
    "nbgrader": {
     "grade": false,
     "grade_id": "cell-43ef7c44b75ce0bf",
     "locked": true,
     "schema_version": 3,
     "solution": false,
     "task": false
    }
   },
   "outputs": [
    {
     "name": "stdout",
     "output_type": "stream",
     "text": [
      "[[-0.21040776 -0.67507672  0.5        -0.5       ]\n",
      " [ 0.21040776  0.67507672  0.5        -0.5       ]\n",
      " [-0.67507672  0.21040776 -0.5        -0.5       ]\n",
      " [ 0.67507672 -0.21040776 -0.5        -0.5       ]]\n"
     ]
    }
   ],
   "source": [
    "print(eigvecs) # Eigenvectors (each column is the eigenvector corresponding to eigenvalue above.)"
   ]
  },
  {
   "cell_type": "code",
   "execution_count": 32,
   "id": "1479b430",
   "metadata": {
    "nbgrader": {
     "grade": false,
     "grade_id": "cell-bdfbde8b501d3695",
     "locked": false,
     "schema_version": 3,
     "solution": true,
     "task": false
    }
   },
   "outputs": [
    {
     "data": {
      "text/plain": [
       "array([ 7.,  7., -7., -7.])"
      ]
     },
     "execution_count": 32,
     "metadata": {},
     "output_type": "execute_result"
    }
   ],
   "source": [
    "\"\"\"\n",
    "TODO: 3. calculate dot(M, third_eigenvector).\n",
    "\"\"\"\n",
    "\n",
    "# Delete raise NotImplementedError()\n",
    "### BEGIN SOLUTION\n",
    "np.dot(M, eigvecs[:,2])\n",
    "### END SOLUTION"
   ]
  },
  {
   "cell_type": "code",
   "execution_count": 33,
   "id": "cc6f247a",
   "metadata": {
    "nbgrader": {
     "grade": false,
     "grade_id": "cell-e6d7fafce46fcabf",
     "locked": false,
     "schema_version": 3,
     "solution": true,
     "task": false
    }
   },
   "outputs": [
    {
     "data": {
      "text/plain": [
       "array([ 7.,  7., -7., -7.])"
      ]
     },
     "execution_count": 33,
     "metadata": {},
     "output_type": "execute_result"
    }
   ],
   "source": [
    "\"\"\"\n",
    "TODO: 4. calculate third_eigenvalue * third_eigenvector.\n",
    "\"\"\"\n",
    "\n",
    "# Delete raise NotImplementedError()\n",
    "### BEGIN SOLUTION\n",
    "eigvals[2]*eigvecs[:,2]\n",
    "### END SOLUTION"
   ]
  },
  {
   "cell_type": "markdown",
   "id": "4a5e7487",
   "metadata": {
    "nbgrader": {
     "grade": false,
     "grade_id": "cell-8230d664286661d1",
     "locked": true,
     "schema_version": 3,
     "solution": false,
     "task": false
    }
   },
   "source": [
    "The eigenvectors returned by the function eig are the normalized ones. We can check this using the function norm of the module linalg."
   ]
  },
  {
   "cell_type": "code",
   "execution_count": 34,
   "id": "a6a38805",
   "metadata": {
    "nbgrader": {
     "grade": false,
     "grade_id": "cell-d5ce4126c348db80",
     "locked": false,
     "schema_version": 3,
     "solution": true,
     "task": false
    }
   },
   "outputs": [
    {
     "data": {
      "text/plain": [
       "1.0000000000000004"
      ]
     },
     "execution_count": 34,
     "metadata": {},
     "output_type": "execute_result"
    }
   ],
   "source": [
    "\"\"\"\n",
    "TODO: 5. check the l2 norm of third eigenvector.\n",
    "\"\"\"\n",
    "\n",
    "# Delete raise NotImplementedError()\n",
    "### BEGIN SOLUTION\n",
    "np.linalg.norm(eigvecs[:,2]) \n",
    "### END SOLUTION"
   ]
  },
  {
   "cell_type": "markdown",
   "id": "ca2e9f18",
   "metadata": {
    "nbgrader": {
     "grade": false,
     "grade_id": "cell-6bbc722a8b84e0b5",
     "locked": true,
     "schema_version": 3,
     "solution": false,
     "task": false
    }
   },
   "source": [
    "## Part 4: Singular Value Decomposition\n",
    "\n",
    "Recall that the singular value decomposition of an $m\\times n$ complex matrix $M$ is a factorization of the form $US V^{*}$, where $U$ is an $m\\times m$ complex unitary matrix, $S$ is an $m\\times n$ rectangular diagonal matrix with non-negative real numbers on the diagonal, and $V$ is an $n\\times n$ complex unitary matrix. If $M$ is real, $U$ and $V$ can also be guaranteed to be real orthogonal matrices. In such contexts, the SVD is often denoted $USV^{T}$.\n",
    "\n",
    "We can also use the module linalg to find the singular value decomposition of a matrix with the function svd.\n",
    "\n",
    "#### Reference:\n",
    "* https://numpy.org/doc/stable/reference/generated/numpy.linalg.svd.html"
   ]
  },
  {
   "cell_type": "code",
   "execution_count": 35,
   "id": "67943e99",
   "metadata": {
    "nbgrader": {
     "grade": false,
     "grade_id": "cell-32077a9a106e50c6",
     "locked": true,
     "schema_version": 3,
     "solution": false,
     "task": false
    }
   },
   "outputs": [
    {
     "name": "stdout",
     "output_type": "stream",
     "text": [
      "[[3. 7. 3.]\n",
      " [3. 7. 3.]\n",
      " [4. 5. 5.]\n",
      " [4. 5. 5.]\n",
      " [4. 7. 4.]]\n",
      "(5, 5) (3,) (3, 3)\n"
     ]
    }
   ],
   "source": [
    "M = 4*np.ones((5, 3))\n",
    "M[:2,] = 3\n",
    "M[:,1] = 7\n",
    "M[2:4,1:3] = 5\n",
    "print(M)\n",
    "\n",
    "U, S, Vh = np.linalg.svd(M)\n",
    "print(U.shape, S.shape, Vh.shape)"
   ]
  },
  {
   "cell_type": "code",
   "execution_count": 36,
   "id": "c8d9367d",
   "metadata": {
    "nbgrader": {
     "grade": false,
     "grade_id": "cell-80f204edd7fb632a",
     "locked": true,
     "schema_version": 3,
     "solution": false,
     "task": false
    }
   },
   "outputs": [
    {
     "name": "stdout",
     "output_type": "stream",
     "text": [
      "[[-4.38900010e-01  4.58631218e-01 -3.11487058e-01 -3.85784701e-01\n",
      "  -5.92596122e-01]\n",
      " [-4.38900010e-01  4.58631218e-01 -3.11487058e-01  3.85784701e-01\n",
      "   5.92596122e-01]\n",
      " [-4.33271443e-01 -5.31610332e-01 -1.72239110e-01 -5.92596122e-01\n",
      "   3.85784701e-01]\n",
      " [-4.33271443e-01 -5.31610332e-01 -1.72239110e-01  5.92596122e-01\n",
      "  -3.85784701e-01]\n",
      " [-4.89167942e-01  1.18725399e-01  8.64071180e-01  0.00000000e+00\n",
      "  -3.33066907e-16]]\n"
     ]
    }
   ],
   "source": [
    "print(U)"
   ]
  },
  {
   "cell_type": "code",
   "execution_count": 37,
   "id": "2c61eb33",
   "metadata": {
    "nbgrader": {
     "grade": false,
     "grade_id": "cell-45a975291202e3b6",
     "locked": true,
     "schema_version": 3,
     "solution": false,
     "task": false
    }
   },
   "outputs": [
    {
     "name": "stdout",
     "output_type": "stream",
     "text": [
      "[18.37853642  3.02755553  0.25160832]\n"
     ]
    }
   ],
   "source": [
    "print(S)  #(singular values: diagonal of S)"
   ]
  },
  {
   "cell_type": "code",
   "execution_count": 38,
   "id": "c0a2ce88",
   "metadata": {
    "nbgrader": {
     "grade": false,
     "grade_id": "cell-2ef3e4bb3f650bb5",
     "locked": true,
     "schema_version": 3,
     "solution": false,
     "task": false
    }
   },
   "outputs": [
    {
     "name": "stdout",
     "output_type": "stream",
     "text": [
      "[[-0.43835065 -0.75639811 -0.48550037]\n",
      " [-0.33895126  0.63939753 -0.69013248]\n",
      " [ 0.83244264 -0.13795906 -0.53666241]]\n"
     ]
    }
   ],
   "source": [
    "print(Vh)"
   ]
  },
  {
   "cell_type": "code",
   "execution_count": 39,
   "id": "f6ae9b20",
   "metadata": {
    "nbgrader": {
     "grade": false,
     "grade_id": "cell-56dfb04d617c4548",
     "locked": true,
     "schema_version": 3,
     "solution": false,
     "task": false
    }
   },
   "outputs": [
    {
     "name": "stdout",
     "output_type": "stream",
     "text": [
      "(5, 5) (3,) (3, 3)\n",
      "True\n",
      "True\n"
     ]
    }
   ],
   "source": [
    "# Reconstruction based on full SVD, 2D case:\n",
    "U, S, Vh = np.linalg.svd(M, full_matrices=True)\n",
    "print(U.shape, S.shape, Vh.shape)\n",
    "print(np.allclose(M, np.dot(U[:, :3] * S, Vh)))\n",
    "\n",
    "Smat = np.zeros((5, 3), dtype=complex)\n",
    "Smat[:3, :3] = np.diag(S)\n",
    "print(np.allclose(M, np.dot(U, np.dot(Smat, Vh))))"
   ]
  },
  {
   "cell_type": "code",
   "execution_count": 40,
   "id": "af32ad2c",
   "metadata": {
    "nbgrader": {
     "grade": false,
     "grade_id": "cell-b82ae489f72b6040",
     "locked": true,
     "schema_version": 3,
     "solution": false,
     "task": false
    }
   },
   "outputs": [
    {
     "name": "stdout",
     "output_type": "stream",
     "text": [
      "(5, 3) (3,) (3, 3)\n"
     ]
    }
   ],
   "source": [
    "# Reconstruction based on reduced SVD, 2D case:\n",
    "U, S, Vh = np.linalg.svd(M, full_matrices=False)\n",
    "print(U.shape, S.shape, Vh.shape)"
   ]
  },
  {
   "cell_type": "code",
   "execution_count": 41,
   "id": "75920979",
   "metadata": {
    "nbgrader": {
     "grade": false,
     "grade_id": "cell-6b6ba7c32909f5d7",
     "locked": false,
     "schema_version": 3,
     "solution": true,
     "task": false
    }
   },
   "outputs": [
    {
     "name": "stdout",
     "output_type": "stream",
     "text": [
      "True\n"
     ]
    }
   ],
   "source": [
    "\"\"\"\n",
    "TODO: 6. reconstruct M by USVh using np.dot.\n",
    "HINT: you should diagonalize S first, and then use np.allclose\n",
    "\"\"\"\n",
    "\n",
    "# Delete raise NotImplementedError()\n",
    "### BEGIN SOLUTION\n",
    "print(np.allclose(M, U@np.diag(S)@Vh))\n",
    "# np.allclose(M, np.dot(np.dot(U, np.diag(S)), Vh))\n",
    "# np.allclose(M, np.dot(U * S, Vh))\n",
    "### END SOLUTION"
   ]
  },
  {
   "cell_type": "markdown",
   "id": "0a254dd2",
   "metadata": {
    "nbgrader": {
     "grade": false,
     "grade_id": "cell-7a41678ae77fc281",
     "locked": true,
     "schema_version": 3,
     "solution": false,
     "task": false
    }
   },
   "source": [
    "You know that the singular values of the matrix M are the square roots of the eigenvalues of $$M^\\top M.$$ In the following, verify this fact."
   ]
  },
  {
   "cell_type": "code",
   "execution_count": 42,
   "id": "c4b5a9a4",
   "metadata": {
    "nbgrader": {
     "grade": false,
     "grade_id": "cell-4e0e305ac9c49de4",
     "locked": false,
     "schema_version": 3,
     "solution": true,
     "task": false
    }
   },
   "outputs": [
    {
     "name": "stdout",
     "output_type": "stream",
     "text": [
      "[6.33067458e-02 9.16609249e+00 3.37770601e+02]\n"
     ]
    }
   ],
   "source": [
    "\"\"\"\n",
    "TODO: 7. compute eigenvalues of M^T * M.\n",
    "\"\"\"\n",
    "\n",
    "# Delete raise NotImplementedError()\n",
    "### BEGIN SOLUTION\n",
    "eigvals, eigvecs = np.linalg.eigh(M.T@M)\n",
    "print(eigvals)\n",
    "#np.linalg.eigvalsh(np.dot(M.T,M))\n",
    "### END SOLUTION"
   ]
  },
  {
   "cell_type": "code",
   "execution_count": 43,
   "id": "9f6e0d28",
   "metadata": {
    "nbgrader": {
     "grade": false,
     "grade_id": "cell-59e718ce10eab53b",
     "locked": false,
     "schema_version": 3,
     "solution": true,
     "task": false
    }
   },
   "outputs": [
    {
     "data": {
      "text/plain": [
       "array([3.37770601e+02, 9.16609249e+00, 6.33067458e-02])"
      ]
     },
     "execution_count": 43,
     "metadata": {},
     "output_type": "execute_result"
    }
   ],
   "source": [
    "\"\"\"\n",
    "TODO: 8. compute square of S.\n",
    "\"\"\"\n",
    "\n",
    "# Delete raise NotImplementedError()\n",
    "### BEGIN SOLUTION\n",
    "np.square(S)\n",
    "### END SOLUTION"
   ]
  },
  {
   "cell_type": "markdown",
   "id": "b5c1f3d8",
   "metadata": {
    "nbgrader": {
     "grade": false,
     "grade_id": "cell-58072a1d6a7c55da",
     "locked": true,
     "schema_version": 3,
     "solution": false,
     "task": false
    }
   },
   "source": [
    "The rows of $V^\\top$ are the eigenvectors of $M^\\top M$."
   ]
  },
  {
   "cell_type": "code",
   "execution_count": 44,
   "id": "e1ec7551",
   "metadata": {
    "nbgrader": {
     "grade": false,
     "grade_id": "cell-14ffa78f8275c08f",
     "locked": false,
     "schema_version": 3,
     "solution": true,
     "task": false
    }
   },
   "outputs": [
    {
     "name": "stdout",
     "output_type": "stream",
     "text": [
      "[6.33067458e-02 9.16609249e+00 3.37770601e+02]\n"
     ]
    }
   ],
   "source": [
    "\"\"\"\n",
    "TODO: 9. compute the eigenvectors of M^T*M.\n",
    "\"\"\"\n",
    "\n",
    "# Delete raise NotImplementedError()\n",
    "### BEGIN SOLUTION\n",
    "eigvals, eigvecs = np.linalg.eigh(M.T@M)\n",
    "print(eigvals)\n",
    "### END SOLUTION"
   ]
  },
  {
   "cell_type": "code",
   "execution_count": 45,
   "id": "729963f9",
   "metadata": {
    "nbgrader": {
     "grade": false,
     "grade_id": "cell-4480adad3f5fad1a",
     "locked": true,
     "schema_version": 3,
     "solution": false,
     "task": false
    }
   },
   "outputs": [
    {
     "name": "stdout",
     "output_type": "stream",
     "text": [
      "[[-0.43835065 -0.33895126  0.83244264]\n",
      " [-0.75639811  0.63939753 -0.13795906]\n",
      " [-0.48550037 -0.69013248 -0.53666241]]\n"
     ]
    }
   ],
   "source": [
    "print(Vh.T)"
   ]
  },
  {
   "cell_type": "markdown",
   "id": "49ba051b",
   "metadata": {
    "nbgrader": {
     "grade": false,
     "grade_id": "cell-04cb47f565a45197",
     "locked": true,
     "schema_version": 3,
     "solution": false,
     "task": false
    }
   },
   "source": [
    "The columns of $U$ are the eigenvectors of $M M^\\top$.\n",
    "Verify that this is true."
   ]
  },
  {
   "cell_type": "code",
   "execution_count": 46,
   "id": "5423de13",
   "metadata": {
    "nbgrader": {
     "grade": false,
     "grade_id": "cell-8fc0fa1bef218e52",
     "locked": false,
     "schema_version": 3,
     "solution": true,
     "task": false
    }
   },
   "outputs": [
    {
     "name": "stdout",
     "output_type": "stream",
     "text": [
      "[[ 1.23341393e-04  7.07106770e-01  3.11487058e-01  4.58631218e-01\n",
      "  -4.38900010e-01]\n",
      " [-1.23341393e-04 -7.07106770e-01  3.11487058e-01  4.58631218e-01\n",
      "  -4.38900010e-01]\n",
      " [-7.07106770e-01  1.23341393e-04  1.72239110e-01 -5.31610332e-01\n",
      "  -4.33271443e-01]\n",
      " [ 7.07106770e-01 -1.23341393e-04  1.72239110e-01 -5.31610332e-01\n",
      "  -4.33271443e-01]\n",
      " [ 2.31639794e-16  1.43607348e-13 -8.64071180e-01  1.18725399e-01\n",
      "  -4.89167942e-01]]\n"
     ]
    }
   ],
   "source": [
    "\"\"\"\n",
    "TODO: 10. compute the eigenvectors of M*M^T.\n",
    "\"\"\"\n",
    "\n",
    "# Delete raise NotImplementedError()\n",
    "### BEGIN SOLUTION\n",
    "eigvals, eigvecs = np.linalg.eigh(M@M.T)\n",
    "print(eigvecs)\n",
    "### END SOLUTION"
   ]
  },
  {
   "cell_type": "code",
   "execution_count": 47,
   "id": "1c38a281",
   "metadata": {
    "nbgrader": {
     "grade": false,
     "grade_id": "cell-9780ebc1fc567f5c",
     "locked": true,
     "schema_version": 3,
     "solution": false,
     "task": false
    }
   },
   "outputs": [
    {
     "name": "stdout",
     "output_type": "stream",
     "text": [
      "[[-4.38900010e-01  4.58631218e-01 -3.11487058e-01 -3.85784701e-01\n",
      "  -5.92596122e-01]\n",
      " [-4.38900010e-01  4.58631218e-01 -3.11487058e-01  3.85784701e-01\n",
      "   5.92596122e-01]\n",
      " [-4.33271443e-01 -5.31610332e-01 -1.72239110e-01 -5.92596122e-01\n",
      "   3.85784701e-01]\n",
      " [-4.33271443e-01 -5.31610332e-01 -1.72239110e-01  5.92596122e-01\n",
      "  -3.85784701e-01]\n",
      " [-4.89167942e-01  1.18725399e-01  8.64071180e-01  0.00000000e+00\n",
      "  -3.33066907e-16]]\n"
     ]
    }
   ],
   "source": [
    "U, S, Vh = np.linalg.svd(M, full_matrices=True)\n",
    "print(U)"
   ]
  },
  {
   "cell_type": "markdown",
   "id": "567002f3",
   "metadata": {
    "nbgrader": {
     "grade": false,
     "grade_id": "cell-6a1be0b7470f3971",
     "locked": true,
     "schema_version": 3,
     "solution": false,
     "task": false
    }
   },
   "source": [
    "## Submission Instructions\n",
    "\n",
    "\n",
    "### Download Code Portion\n",
    "* Restart the kernel and run all the cells to make sure your code works.\n",
    "* Save your notebook using File > Save and Checkpoint.\n",
    "* Use File > Downland as > PDF via Latex.\n",
    "* Download the PDF file and confirm that none of your work is missing or cut off. \n",
    "* **DO NOT** simply take pictures using your phone. \n",
    "\n",
    "### Submitting ###\n",
    "* Submit the assignment to Lab1 on Gradescope. \n",
    "* **Make sure to assign each page of your pdf to the correct question.**"
   ]
  }
 ],
 "metadata": {
  "celltoolbar": "Create Assignment",
  "kernelspec": {
   "display_name": "Python 3 (ipykernel)",
   "language": "python",
   "name": "python3"
  },
  "language_info": {
   "codemirror_mode": {
    "name": "ipython",
    "version": 3
   },
   "file_extension": ".py",
   "mimetype": "text/x-python",
   "name": "python",
   "nbconvert_exporter": "python",
   "pygments_lexer": "ipython3",
   "version": "3.9.5"
  }
 },
 "nbformat": 4,
 "nbformat_minor": 5
}
